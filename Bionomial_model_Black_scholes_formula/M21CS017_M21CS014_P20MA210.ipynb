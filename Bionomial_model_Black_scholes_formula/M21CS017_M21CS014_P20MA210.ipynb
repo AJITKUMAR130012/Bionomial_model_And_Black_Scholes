{
 "cells": [
  {
   "cell_type": "code",
   "execution_count": 261,
   "id": "05b8b249",
   "metadata": {
    "executionInfo": {
     "elapsed": 17,
     "status": "ok",
     "timestamp": 1649254784285,
     "user": {
      "displayName": "Venkat Nammi",
      "userId": "11383815741016414556"
     },
     "user_tz": -330
    },
    "id": "5b131be6"
   },
   "outputs": [],
   "source": [
    "import scipy.special\n",
    "import math"
   ]
  },
  {
   "cell_type": "code",
   "execution_count": 264,
   "id": "e3114900",
   "metadata": {
    "colab": {
     "base_uri": "https://localhost:8080/"
    },
    "executionInfo": {
     "elapsed": 94544,
     "status": "ok",
     "timestamp": 1649254894777,
     "user": {
      "displayName": "Venkat Nammi",
      "userId": "11383815741016414556"
     },
     "user_tz": -330
    },
    "id": "3b7e7e67",
    "outputId": "987fe39e-ddcd-4b91-f63e-0c374e50ed0f"
   },
   "outputs": [
    {
     "name": "stdout",
     "output_type": "stream",
     "text": [
      "Enter the value of s2717.77\n",
      "Enter the value of t in year(1/12) or weakly(5/253)0.01976284584\n",
      "Enter the value of r0.025\n",
      "Enter the value of k150\n",
      "Enter the value of sigma0.352538006\n"
     ]
    }
   ],
   "source": [
    "# s value for apple is 172.14 ,s value for google is 2717.77 and s value of microsoft \n",
    "s=float(input(\"Enter the value of s\"))  \n",
    "t=float(input(\"Enter the value of t in year(1/12) or weakly(5/253)\"))   # t=(5/253) or 0.01976284584\n",
    "r=float(input(\"Enter the value of r\"))                             # r=0.025\n",
    "k=int(input(\"Enter the value of k\"))                               # k=150\n",
    "\n",
    "#sigma value for apple is 0.298041295\n",
    "\n",
    "#sigma value for microsoft is 0.329328615\n",
    "\n",
    "#sigma value for google is 0.352538006\n",
    "\n",
    "sigma=float(input(\"Enter the value of sigma\"))                          \n"
   ]
  },
  {
   "cell_type": "code",
   "execution_count": 265,
   "id": "f3f4eed6",
   "metadata": {},
   "outputs": [
    {
     "name": "stdout",
     "output_type": "stream",
     "text": [
      "Enter the value of n4\n"
     ]
    }
   ],
   "source": [
    "n=int(input(\"Enter the value of n\"))"
   ]
  },
  {
   "cell_type": "code",
   "execution_count": 266,
   "id": "926d7331",
   "metadata": {
    "executionInfo": {
     "elapsed": 646,
     "status": "ok",
     "timestamp": 1649254942926,
     "user": {
      "displayName": "Venkat Nammi",
      "userId": "11383815741016414556"
     },
     "user_tz": -330
    },
    "id": "7079b03f"
   },
   "outputs": [],
   "source": [
    "\n",
    "# Solution for question2:"
   ]
  },
  {
   "cell_type": "code",
   "execution_count": 267,
   "id": "f614af72",
   "metadata": {
    "colab": {
     "base_uri": "https://localhost:8080/"
    },
    "executionInfo": {
     "elapsed": 840,
     "status": "ok",
     "timestamp": 1649254951053,
     "user": {
      "displayName": "Venkat Nammi",
      "userId": "11383815741016414556"
     },
     "user_tz": -330
    },
    "id": "ec8731be",
    "outputId": "4e7acd5f-81ba-49fa-c02f-41a48ccd43ac"
   },
   "outputs": [
    {
     "name": "stdout",
     "output_type": "stream",
     "text": [
      "n=1   ->2567.8440923669423\n",
      "n=2   ->2567.8440923669423\n",
      "n=3   ->2567.8440923669423\n",
      "n=4   ->2567.8440923669436\n"
     ]
    }
   ],
   "source": [
    "for j in range(1,n+1):\n",
    "    exponent=sigma*(math.sqrt(t/j))\n",
    "    u=math.exp(exponent)\n",
    "    #print(u)\n",
    "    d=1/u\n",
    "    #p=(exp(r*(t/n))-d)/(u-d)\n",
    "    expnonent1=r*(t/j)\n",
    "    p=(math.exp(expnonent1)-d)/(u-d)\n",
    "    q=1-p\n",
    "    #print(p)\n",
    "    #print(q)\n",
    "    sum=0\n",
    "    for i in range(j+1):\n",
    "        x=s*(u**(j-i)*(d**i))\n",
    "        if x>k:\n",
    "            c=(x-k)*((p**(j-i))*(q**i)*scipy.special.binom(j,i))\n",
    "        else:\n",
    "            c=0\n",
    "        sum+=c\n",
    "    print(\"n=\",end=\"\")\n",
    "    print(j,end=\"   ->\")\n",
    "    print(sum/math.exp(r*t))"
   ]
  },
  {
   "cell_type": "code",
   "execution_count": 268,
   "id": "bff06b45",
   "metadata": {
    "id": "90594bf8"
   },
   "outputs": [],
   "source": [
    "#Solution for Question 3\n",
    "#blackHole formula"
   ]
  },
  {
   "cell_type": "code",
   "execution_count": 269,
   "id": "7a178fca",
   "metadata": {
    "id": "707b3331",
    "outputId": "9a526303-29b8-4231-fe7e-d2ac21b8792e"
   },
   "outputs": [
    {
     "name": "stdout",
     "output_type": "stream",
     "text": [
      "2567.8440923669423\n"
     ]
    }
   ],
   "source": [
    "from scipy.stats import norm\n",
    "d1=(math.log((s/k))+(r+(sigma**2)/2)*t)/(sigma*math.sqrt(t))\n",
    "d2=d1-sigma*math.sqrt(t)\n",
    "exponenet3=-r*t\n",
    "c=norm.cdf(d1)*s-norm.cdf(d2)*k*math.exp(exponenet3)\n",
    "print(c)"
   ]
  },
  {
   "cell_type": "code",
   "execution_count": 270,
   "id": "17f6bd27",
   "metadata": {
    "id": "17243972"
   },
   "outputs": [],
   "source": [
    "# Solution for Question 5\n"
   ]
  },
  {
   "cell_type": "code",
   "execution_count": 271,
   "id": "56210b7b",
   "metadata": {
    "colab": {
     "background_save": true
    },
    "id": "2fbb7308"
   },
   "outputs": [
    {
     "name": "stdout",
     "output_type": "stream",
     "text": [
      "Enter sigma volatitlity0.5\n"
     ]
    }
   ],
   "source": [
    "from scipy.stats import norm\n",
    "e=int(t*(253/5))\n",
    "#print(e)\n",
    "sigma1=float(input(\"Enter sigma volatitlity\"))\n",
    "for i in range(1,e):\n",
    "    t1=(5/253)*i\n",
    "   # print(t1)\n",
    "    h=(math.log((s/k))+(r+(sigma1**2)/2)*(t-t1)/(sigma1*math.sqrt(t-t1)))\n",
    "    delta=norm.cdf(h)\n",
    "    print(delta)\n",
    "    \n",
    "  "
   ]
  },
  {
   "cell_type": "code",
   "execution_count": 272,
   "id": "51f64f19",
   "metadata": {
    "id": "31ebfb69",
    "outputId": "0940fc27-16b3-42c0-c980-dcc7f2005937"
   },
   "outputs": [
    {
     "name": "stdout",
     "output_type": "stream",
     "text": [
      "0.5988701220087512\n"
     ]
    }
   ],
   "source": [
    "print(delta)"
   ]
  },
  {
   "cell_type": "code",
   "execution_count": null,
   "id": "289475cb",
   "metadata": {},
   "outputs": [],
   "source": []
  }
 ],
 "metadata": {
  "colab": {
   "name": "Financial_final2_Apple.ipynb",
   "version": ""
  },
  "kernelspec": {
   "display_name": "Python 3 (ipykernel)",
   "language": "python",
   "name": "python3"
  },
  "language_info": {
   "codemirror_mode": {
    "name": "ipython",
    "version": 3
   },
   "file_extension": ".py",
   "mimetype": "text/x-python",
   "name": "python",
   "nbconvert_exporter": "python",
   "pygments_lexer": "ipython3",
   "version": "3.9.7"
  }
 },
 "nbformat": 4,
 "nbformat_minor": 5
}
